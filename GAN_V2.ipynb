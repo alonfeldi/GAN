{
  "nbformat": 4,
  "nbformat_minor": 0,
  "metadata": {
    "colab": {
      "name": "GAN_V2.ipynb",
      "provenance": [],
      "collapsed_sections": [],
      "mount_file_id": "1A1D7Nad8aLb8NjC64Ev-Ybq9R5qaOjHL",
      "authorship_tag": "ABX9TyObnEuYnwuq6fX0f1s6/J4h",
      "include_colab_link": true
    },
    "kernelspec": {
      "display_name": "Python 3",
      "name": "python3"
    },
    "accelerator": "GPU"
  },
  "cells": [
    {
      "cell_type": "markdown",
      "metadata": {
        "id": "view-in-github",
        "colab_type": "text"
      },
      "source": [
        "<a href=\"https://colab.research.google.com/github/alonfeldi/GAN/blob/main/GAN_V2.ipynb\" target=\"_parent\"><img src=\"https://colab.research.google.com/assets/colab-badge.svg\" alt=\"Open In Colab\"/></a>"
      ]
    },
    {
      "cell_type": "code",
      "metadata": {
        "colab": {
          "base_uri": "https://localhost:8080/"
        },
        "id": "FZQO5F5IK5bR",
        "outputId": "1297d5dc-18de-45ad-d0e4-6d47cb678054"
      },
      "source": [
        "from __future__ import print_function\r\n",
        "import argparse\r\n",
        "import os\r\n",
        "import random\r\n",
        "import torch\r\n",
        "import torch.nn as nn\r\n",
        "import torch.nn.parallel\r\n",
        "import torch.backends.cudnn as cudnn\r\n",
        "import torch.optim as optim\r\n",
        "import torch.utils.data\r\n",
        "import torchvision.datasets as dset\r\n",
        "import torchvision.transforms as transforms\r\n",
        "import h5py\r\n",
        "from torchvision.utils import save_image\r\n",
        "import torchvision.utils as vutils\r\n",
        "import numpy as np\r\n",
        "import matplotlib.pyplot as plt\r\n",
        "import matplotlib.animation as animation\r\n",
        "from IPython.display import HTML\r\n",
        "from torchvision.datasets import ImageFolder\r\n",
        "from PIL import Image,ImageShow\r\n",
        "# Set random seed for reproducibility\r\n",
        "manualSeed = 999\r\n",
        "#manualSeed = random.randint(1, 10000) # use if you want new results\r\n",
        "print(\"Random Seed: \", manualSeed)\r\n",
        "random.seed(manualSeed)\r\n",
        "torch.manual_seed(manualSeed)"
      ],
      "execution_count": 4,
      "outputs": [
        {
          "output_type": "stream",
          "text": [
            "Random Seed:  999\n"
          ],
          "name": "stdout"
        },
        {
          "output_type": "execute_result",
          "data": {
            "text/plain": [
              "<torch._C.Generator at 0x7f093c3f9b70>"
            ]
          },
          "metadata": {
            "tags": []
          },
          "execution_count": 4
        }
      ]
    },
    {
      "cell_type": "code",
      "metadata": {
        "id": "UVEcAzFFkZcU"
      },
      "source": [
        "# !rm -r /content/guy_alon"
      ],
      "execution_count": 5,
      "outputs": []
    },
    {
      "cell_type": "code",
      "metadata": {
        "id": "DiAlJv19K80c"
      },
      "source": [
        "# Hyper parameters\r\n",
        "\r\n",
        "# Batch size during training\r\n",
        "batch_size = 128\r\n",
        "\r\n",
        "# Spatial size of training images. All images will be resized to this\r\n",
        "#   size using a transformer.\r\n",
        "image_size = 64\r\n",
        "\r\n",
        "# Number of channels in the training images. For color images this is 3\r\n",
        "nc = 3\r\n",
        "\r\n",
        "# Size of z latent vector\r\n",
        "bnz = 50  # binary noise\r\n",
        "nnz = 50  # normal noise\r\n",
        "nz = bnz + nnz\r\n",
        "\r\n",
        "# Size of feature maps in generator\r\n",
        "ngf = 16\r\n",
        "\r\n",
        "# Size of feature maps in discriminator\r\n",
        "ndf = 16\r\n",
        "\r\n",
        "# Number of training epochs\r\n",
        "num_epochs = 40\r\n",
        "\r\n",
        "# Learning rate for optimizers\r\n",
        "lr = 0.0002\r\n",
        "\r\n",
        "# Decide which device we want to run on\r\n",
        "device = torch.device(\"cuda:0\" if torch.cuda.is_available() else \"cpu\")"
      ],
      "execution_count": 6,
      "outputs": []
    },
    {
      "cell_type": "code",
      "metadata": {
        "colab": {
          "base_uri": "https://localhost:8080/"
        },
        "id": "CWrxqpHlLbRs",
        "outputId": "d971f5c8-bb55-4353-e0d8-f7f0d14331c4"
      },
      "source": [
        "def download_and_unzip_data():\r\n",
        "    !mkdir guy_alon && wget https://s3-us-west-1.amazonaws.com/udacity-dlnfd/datasets/celeba.zip \r\n",
        "    import zipfile\r\n",
        "\r\n",
        "    with zipfile.ZipFile(\"celeba.zip\",\"r\") as zip_ref:\r\n",
        "        zip_ref.extractall(\"guy_alon/\")\r\n",
        "\r\n",
        "# transfer data into h5 file for fatser training\r\n",
        "\r\n",
        "def create_h5_for_images():\r\n",
        "    folder='/content/guy_alon/img_align_celeba/'\r\n",
        "    hf = h5py.File('/content/drive/MyDrive/guy_alon/H5_images_celebA', 'a')\r\n",
        "    transform=transforms.Compose([\r\n",
        "                           transforms.Resize(image_size),\r\n",
        "                           transforms.CenterCrop(image_size),\r\n",
        "                           transforms.ToTensor(),\r\n",
        "                           transforms.Normalize((0.5, 0.5, 0.5), (0.5, 0.5, 0.5))]) \r\n",
        "    i=0\r\n",
        "    for filename in os.listdir(folder):\r\n",
        "        if i % 10000 == 0:\r\n",
        "            print(i)\r\n",
        "        frame=folder+filename\r\n",
        "        img= transform(Image.open(frame).convert('RGB'))\r\n",
        "        # binary_data = img\r\n",
        "        # binary_data_np = np.asarray(binary_data)\r\n",
        "        dset = hf.create_dataset(filename, data=np.asarray(img)) \r\n",
        "        i=i+1\r\n",
        "    hf.close()\r\n",
        "\r\n",
        "# download_and_unzip_data()\r\n",
        "# create_h5_for_images()"
      ],
      "execution_count": null,
      "outputs": [
        {
          "output_type": "stream",
          "text": [
            "0\n",
            "10000\n",
            "20000\n",
            "30000\n",
            "40000\n",
            "50000\n",
            "60000\n",
            "70000\n",
            "80000\n",
            "90000\n",
            "110000\n",
            "120000\n"
          ],
          "name": "stdout"
        }
      ]
    },
    {
      "cell_type": "code",
      "metadata": {
        "id": "y8gUbmkvK8xA"
      },
      "source": [
        "import torchvision.transforms as transforms\r\n",
        "class celebA():\r\n",
        "    def __init__(self):\r\n",
        "        self.hf = h5py.File('/content/drive/MyDrive/guy_alon/H5_images_celebA', 'r')   \r\n",
        "        # self.Tensor = transforms.ToTensor()\r\n",
        "    def __getitem__(self, item):\r\n",
        "        file_name = '%.6i.jpg' % item\r\n",
        "        img = np.array(self.hf.get(file_name))\r\n",
        "       \r\n",
        "        # print('image shape',img.shape)\r\n",
        "        return img\r\n",
        "    def __len__(self):\r\n",
        "            return len(self.hf.keys()) \r\n",
        "\r\n",
        "\r\n",
        "def present_data_set(num=10):\r\n",
        "    for i, a in enumerate(dataloader):\r\n",
        "        plt.imshow(np.transpose(a[0],(1,2,0)))\r\n",
        "        plt.show()\r\n",
        "        if i >= num:\r\n",
        "            break\r\n",
        "\r\n",
        "dataset = celebA()\r\n",
        "dataloader = torch.utils.data.DataLoader(dataset=dataset,\r\n",
        "                                        batch_size=batch_size,\r\n",
        "                                        shuffle=True)\r\n",
        "\r\n",
        "\r\n",
        "present_data_set()"
      ],
      "execution_count": null,
      "outputs": []
    },
    {
      "cell_type": "code",
      "metadata": {
        "id": "I9KbzuF6K8rZ"
      },
      "source": [
        "real_batch = next(iter(dataloader))\r\n",
        "plt.figure(figsize=(8,8))\r\n",
        "plt.axis(\"off\")\r\n",
        "plt.title(\"Training Images\")\r\n",
        "plt.imshow(np.transpose(vutils.make_grid(real_batch[0].to(device)[:64], padding=2, normalize=True).cpu(),(1,2,0)))\r\n",
        "plt.show"
      ],
      "execution_count": null,
      "outputs": []
    },
    {
      "cell_type": "code",
      "metadata": {
        "id": "2pawdb7nK8on"
      },
      "source": [
        "#custom weights initialization called on netG and netD\r\n",
        "def weights_init(m):\r\n",
        "    classname = m.__class__.__name__\r\n",
        "    if classname.find('Conv') != -1:\r\n",
        "        nn.init.normal_(m.weight.data, 0.0, 0.02)\r\n",
        "    elif classname.find('BatchNorm') != -1:\r\n",
        "        nn.init.normal_(m.weight.data, 1.0, 0.02)\r\n",
        "        nn.init.constant_(m.bias.data, 0)"
      ],
      "execution_count": null,
      "outputs": []
    },
    {
      "cell_type": "code",
      "metadata": {
        "id": "KCpka4BRK8lt"
      },
      "source": [
        "# Generator Code\r\n",
        "\r\n",
        "class Generator(nn.Module):\r\n",
        "    def __init__(self, ngpu):\r\n",
        "        super(Generator, self).__init__()\r\n",
        "        self.ngpu = ngpu\r\n",
        "        self.main = nn.Sequential(\r\n",
        "            # input is Z, going into a convolution\r\n",
        "            nn.ConvTranspose2d( nz, ngf * 8, 4, 1, 0, bias=False),\r\n",
        "            nn.BatchNorm2d(ngf * 8),\r\n",
        "            nn.ReLU(True),\r\n",
        "            # state size. (ngf*8) x 4 x 4\r\n",
        "            nn.ConvTranspose2d(ngf * 8, ngf * 4, 4, 2, 1, bias=False),\r\n",
        "            nn.BatchNorm2d(ngf * 4),\r\n",
        "            nn.ReLU(True),\r\n",
        "            # state size. (ngf*4) x 8 x 8\r\n",
        "            nn.ConvTranspose2d( ngf * 4, ngf * 2, 4, 2, 1, bias=False),\r\n",
        "            nn.BatchNorm2d(ngf * 2),\r\n",
        "            nn.ReLU(True),\r\n",
        "            # state size. (ngf*2) x 16 x 16\r\n",
        "            nn.ConvTranspose2d( ngf * 2, ngf, 4, 2, 1, bias=False),\r\n",
        "            nn.BatchNorm2d(ngf),\r\n",
        "            nn.ReLU(True),\r\n",
        "            # state size. (ngf) x 32 x 32\r\n",
        "            nn.ConvTranspose2d( ngf, nc, 4, 2, 1, bias=False),\r\n",
        "            nn.Tanh()\r\n",
        "            # state size. (nc) x 64 x 64\r\n",
        "        )\r\n",
        "\r\n",
        "    def forward(self, input):\r\n",
        "        return self.main(input)"
      ],
      "execution_count": null,
      "outputs": []
    },
    {
      "cell_type": "code",
      "metadata": {
        "id": "MsrDgKddK8jG"
      },
      "source": [
        "# Create the generator\r\n",
        "netG = Generator(ngpu).to(device)\r\n",
        "\r\n",
        "# Apply the weights_init function to randomly initialize all weights\r\n",
        "#  to mean=0, stdev=0.2.\r\n",
        "netG.apply(weights_init)\r\n",
        "\r\n",
        "# Print the model\r\n",
        "print(netG)"
      ],
      "execution_count": null,
      "outputs": []
    },
    {
      "cell_type": "code",
      "metadata": {
        "id": "rLG3kHCYK8gl"
      },
      "source": [
        "class Discriminator(nn.Module):\r\n",
        "    def __init__(self, ngpu):\r\n",
        "        super(Discriminator, self).__init__()\r\n",
        "        self.ngpu = ngpu\r\n",
        "        self.main = nn.Sequential(\r\n",
        "            # input is (nc) x 64 x 64\r\n",
        "            nn.Conv2d(nc, ndf, 4, 2, 1, bias=False),\r\n",
        "            nn.LeakyReLU(0.2, inplace=True),\r\n",
        "            # state size. (ndf) x 32 x 32\r\n",
        "            nn.Conv2d(ndf, ndf * 2, 4, 2, 1, bias=False),\r\n",
        "            nn.BatchNorm2d(ndf * 2),\r\n",
        "            nn.LeakyReLU(0.2, inplace=True),\r\n",
        "            # state size. (ndf*2) x 16 x 16\r\n",
        "            nn.Conv2d(ndf * 2, ndf * 4, 4, 2, 1, bias=False),\r\n",
        "            nn.BatchNorm2d(ndf * 4),\r\n",
        "            nn.LeakyReLU(0.2, inplace=True),\r\n",
        "            # state size. (ndf*4) x 8 x 8\r\n",
        "            nn.Conv2d(ndf * 4, ndf * 8, 4, 2, 1, bias=False),\r\n",
        "            nn.BatchNorm2d(ndf * 8),\r\n",
        "            nn.LeakyReLU(0.2, inplace=True),\r\n",
        "            # state size. (ndf*8) x 4 x 4\r\n",
        "            nn.Conv2d(ndf * 8, 1, 4, 1, 0, bias=False),\r\n",
        "            nn.Sigmoid()\r\n",
        "        )\r\n",
        "\r\n",
        "    def forward(self, input):\r\n",
        "        return self.main(input)"
      ],
      "execution_count": null,
      "outputs": []
    },
    {
      "cell_type": "code",
      "metadata": {
        "id": "g15zJlJ5K8ed"
      },
      "source": [
        "# Create the Discriminator\r\n",
        "netD = Discriminator(ngpu).to(device)\r\n",
        "\r\n",
        "# Apply the weights_init function to randomly initialize all weights\r\n",
        "#  to mean=0, stdev=0.2.\r\n",
        "netD.apply(weights_init)\r\n",
        "\r\n",
        "# Print the model\r\n",
        "print(netD)"
      ],
      "execution_count": null,
      "outputs": []
    },
    {
      "cell_type": "code",
      "metadata": {
        "id": "fGgctc8_K8cA"
      },
      "source": [
        "# Initialize BCELoss function\r\n",
        "criterion = nn.BCELoss()\r\n",
        "\r\n",
        "# Create batch of latent vectors that we will use to visualize\r\n",
        "#  the progression of the generator\r\n",
        "fixed_binary_noise = torch.randint( 2, (64, bnz, 1, 1), device=device)\r\n",
        "fixed_gaussian_noise = torch.randn(64, nnz, 1, 1, device=device)\r\n",
        "fixed_noise = torch.cat((fixed_binary_noise, fixed_gaussian_noise), dim=1)\r\n",
        "\r\n",
        "# Establish convention for real and fake labels during training\r\n",
        "real_label = 1.\r\n",
        "fake_label = 0.\r\n",
        "\r\n",
        "# Setup Adam optimizers for both G and D\r\n",
        "optimizerD = optim.Adam(netD.parameters(), lr=lr, betas=(beta1, 0.999))\r\n",
        "optimizerG = optim.Adam(netG.parameters(), lr=lr, betas=(beta1, 0.999))"
      ],
      "execution_count": null,
      "outputs": []
    },
    {
      "cell_type": "code",
      "metadata": {
        "id": "jOpHTxYLK8Y7"
      },
      "source": [
        "# Training Loop\r\n",
        "\r\n",
        "# Lists to keep track of progress\r\n",
        "img_list = []\r\n",
        "G_losses = []\r\n",
        "D_losses = []\r\n",
        "iters = 0\r\n",
        "\r\n",
        "print(\"Starting Training Loop...\")\r\n",
        "# For each epoch\r\n",
        "for epoch in range(num_epochs):\r\n",
        "    # For each batch in the dataloader\r\n",
        "    for i, data in enumerate(dataloader, 0):\r\n",
        "\r\n",
        "        ############################\r\n",
        "        # (1) Update D network: maximize log(D(x)) + log(1 - D(G(z)))\r\n",
        "        ###########################\r\n",
        "        ## Train with all-real batch\r\n",
        "        netD.zero_grad()\r\n",
        "        # Format batch\r\n",
        "        real_cpu = data.to(device)\r\n",
        "        b_size = real_cpu.size(0)\r\n",
        "        label = torch.full((b_size,), real_label, dtype=torch.float, device=device)\r\n",
        "        # Forward pass real batch through D\r\n",
        "        output = netD(real_cpu).view(-1)\r\n",
        "        # Calculate loss on all-real batch\r\n",
        "        errD_real = criterion(output, label)\r\n",
        "        # Calculate gradients for D in backward pass\r\n",
        "        errD_real.backward()\r\n",
        "        D_x = output.mean().item()\r\n",
        "\r\n",
        "        ## Train with all-fake batch\r\n",
        "        # Generate batch of latent vectors\r\n",
        "        binary_noise = torch.randint( 2, (b_size, bnz, 1, 1), device=device)\r\n",
        "        gaussian_noise = torch.randn(b_size, nnz, 1, 1, device=device)\r\n",
        "        noise = torch.cat((binary_noise, gaussian_noise), dim=1)\r\n",
        "\r\n",
        "        # Generate fake image batch with G\r\n",
        "        fake = netG(noise)\r\n",
        "        label.fill_(fake_label)\r\n",
        "        # Classify all fake batch with D\r\n",
        "        output = netD(fake.detach()).view(-1)\r\n",
        "        # Calculate D's loss on the all-fake batch\r\n",
        "        errD_fake = criterion(output, label)\r\n",
        "        # Calculate the gradients for this batch\r\n",
        "        errD_fake.backward()\r\n",
        "        D_G_z1 = output.mean().item()\r\n",
        "        # Add the gradients from the all-real and all-fake batches\r\n",
        "        errD = errD_real + errD_fake\r\n",
        "        # Update D\r\n",
        "        optimizerD.step()\r\n",
        "\r\n",
        "        ############################\r\n",
        "        # (2) Update G network: maximize log(D(G(z)))\r\n",
        "        ###########################\r\n",
        "        netG.zero_grad()\r\n",
        "        label.fill_(real_label)  # fake labels are real for generator cost\r\n",
        "        # Since we just updated D, perform another forward pass of all-fake batch through D\r\n",
        "        output = netD(fake).view(-1)\r\n",
        "        # Calculate G's loss based on this output\r\n",
        "        errG = criterion(output, label)\r\n",
        "        # Calculate gradients for G\r\n",
        "        errG.backward()\r\n",
        "        D_G_z2 = output.mean().item()\r\n",
        "        # Update G\r\n",
        "        optimizerG.step()\r\n",
        "\r\n",
        "        # Output training stats\r\n",
        "        if i % 50 == 0:\r\n",
        "            print('[%d/%d][%d/%d]\\tLoss_D: %.4f\\tLoss_G: %.4f\\tD(x): %.4f\\tD(G(z)): %.4f / %.4f'\r\n",
        "                  % (epoch, num_epochs, i, len(dataloader),\r\n",
        "                     errD.item(), errG.item(), D_x, D_G_z1, D_G_z2))\r\n",
        "\r\n",
        "        # Save Losses for plotting later\r\n",
        "        G_losses.append(errG.item())\r\n",
        "        D_losses.append(errD.item())\r\n",
        "\r\n",
        "        # Check how the generator is doing by saving G's output on fixed_noise\r\n",
        "        if (iters % 500 == 0) or ((epoch == num_epochs-1) and (i == len(dataloader)-1)):\r\n",
        "            with torch.no_grad():\r\n",
        "                fake = netG(fixed_noise).detach().cpu()\r\n",
        "            img_list.append(vutils.make_grid(fake, padding=2, normalize=True))\r\n",
        "            plt.figure(figsize=(16,16))\r\n",
        "            plt.axis(\"off\")\r\n",
        "            plt.imshow(np.transpose(img_list[-1],(1,2,0)))\r\n",
        "            plt.show()\r\n",
        "\r\n",
        "        iters += 1"
      ],
      "execution_count": null,
      "outputs": []
    },
    {
      "cell_type": "code",
      "metadata": {
        "id": "5EY9TsNVK8Wh"
      },
      "source": [
        "plt.figure(figsize=(10,5))\r\n",
        "plt.title(\"Generator and Discriminator Loss During Training\")\r\n",
        "plt.plot(G_losses,label=\"G\")\r\n",
        "plt.plot(D_losses,label=\"D\")\r\n",
        "plt.xlabel(\"iterations\")\r\n",
        "plt.ylabel(\"Loss\")\r\n",
        "plt.legend()\r\n",
        "plt.show()\r\n",
        "plt.savefig('/content/drive/MyDrive/guy_alon/Loss.png')"
      ],
      "execution_count": null,
      "outputs": []
    },
    {
      "cell_type": "code",
      "metadata": {
        "id": "0ZRSguhoK8Mg"
      },
      "source": [
        "#%%capture\r\n",
        "fig = plt.figure(figsize=(8,8))\r\n",
        "plt.axis(\"off\")\r\n",
        "ims = [[plt.imshow(np.transpose(i,(1,2,0)), animated=True)] for i in img_list]\r\n",
        "ani = animation.ArtistAnimation(fig, ims, interval=1000, repeat_delay=1000, blit=True)\r\n",
        "im_ani.save('/content/drive/MyDrive/guy_alon/im.mp4', writer=writer)\r\n",
        "\r\n",
        "HTML(ani.to_jshtml())"
      ],
      "execution_count": null,
      "outputs": []
    },
    {
      "cell_type": "code",
      "metadata": {
        "id": "rP8ge6HFLRnI"
      },
      "source": [
        "# Grab a batch of real images from the dataloader\r\n",
        "real_batch = next(iter(dataloader))\r\n",
        "\r\n",
        "# Plot the real images\r\n",
        "plt.figure(figsize=(15,15))\r\n",
        "plt.subplot(1,2,1)\r\n",
        "plt.axis(\"off\")\r\n",
        "plt.title(\"Real Images\")\r\n",
        "plt.imshow(np.transpose(vutils.make_grid(real_batch[0].to(device)[:64], padding=5, normalize=True).cpu(),(1,2,0)))\r\n",
        "plt.savefig('/content/drive/MyDrive/guy_alon/Real_Images.png')\r\n",
        "\r\n",
        "# Plot the fake images from the last epoch\r\n",
        "plt.subplot(1,2,2)\r\n",
        "plt.axis(\"off\")\r\n",
        "plt.title(\"Fake Images\")\r\n",
        "plt.imshow(np.transpose(img_list[-1],(1,2,0)))\r\n",
        "plt.show()\r\n",
        "plt.savefig('/content/drive/MyDrive/guy_alon/Fake_Images.png')"
      ],
      "execution_count": null,
      "outputs": []
    },
    {
      "cell_type": "code",
      "metadata": {
        "id": "cYBxsVdpLRkw"
      },
      "source": [
        "def save_my_model(model,name):\r\n",
        "    model.save(model,'/content/drive/MyDrive/guy_alon/' + name + '.pkl')"
      ],
      "execution_count": null,
      "outputs": []
    },
    {
      "cell_type": "code",
      "metadata": {
        "id": "E9gH9CH7LRiN"
      },
      "source": [
        "save_my_model(netG,'netG')\r\n",
        "save_my_model(netD,'netD')"
      ],
      "execution_count": null,
      "outputs": []
    }
  ]
}